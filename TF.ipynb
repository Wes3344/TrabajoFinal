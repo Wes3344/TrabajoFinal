{
 "cells": [
  {
   "cell_type": "code",
   "execution_count": 3,
   "id": "2d5d8c29",
   "metadata": {},
   "outputs": [],
   "source": [
    "import requests # importamos http\n",
    "from bs4 import BeautifulSoup"
   ]
  },
  {
   "cell_type": "code",
   "execution_count": 4,
   "id": "4c4b3520",
   "metadata": {},
   "outputs": [
    {
     "name": "stdout",
     "output_type": "stream",
     "text": [
      "Ingrese el producto: arroz costeño\n",
      "Ingrese su correo electrónico(example@gmail.com): ariannepaore10@gmail.com\n"
     ]
    }
   ],
   "source": [
    "producto= input(\"Ingrese el producto: \")\n",
    "correo= input(\"Ingrese su correo electrónico(example@gmail.com): \")"
   ]
  },
  {
   "cell_type": "code",
   "execution_count": 5,
   "id": "e2d458aa",
   "metadata": {},
   "outputs": [],
   "source": [
    "urls=[\"https://www.metro.pe/\",\"https://www.plazavea.com.pe/\",\"https://www.tottus.com.pe/\"] "
   ]
  },
  {
   "cell_type": "code",
   "execution_count": 6,
   "id": "9766374a",
   "metadata": {},
   "outputs": [],
   "source": [
    "supermercados=[\"metro\",\"plazavea\",\"tottus\"]\n",
    "\n",
    "for i in supermercados:\n",
    "  if i==\"metro\":\n",
    "    urlb_metro=urls[0]+\"busca/?ft=\"+producto.replace(\" \", \"%20\")\n",
    "  if i==\"plazavea\":\n",
    "     urlb_plazavea=urls[1]+\"search/?_query=\"+producto.replace(\" \", \"%20\")\n",
    "  if i==\"tottus\":\n",
    "    urlb_tottus=urls[2]+\"buscar?q=\"+producto.replace(\" \", \"%20\")"
   ]
  },
  {
   "cell_type": "markdown",
   "id": "99159efb",
   "metadata": {},
   "source": [
    "#### METRO"
   ]
  },
  {
   "cell_type": "code",
   "execution_count": 7,
   "id": "ef28655c",
   "metadata": {},
   "outputs": [],
   "source": [
    "req_metro = requests.get(urlb_metro)\n",
    "soup_metro = BeautifulSoup(req_metro.text, 'html.parser')\n",
    "name_metro = soup_metro.find(\"div\", class_=\"product-shelf\").find_all('a', class_ ='product-item__name')\n",
    "precios_metro=soup_metro.find(\"div\", class_=\"product-shelf\").find_all('span', class_ ='product-prices__value product-prices__value--best-price')\n",
    "nombres_produc_metro=[]\n",
    "precios_produc_metro=[]"
   ]
  },
  {
   "cell_type": "code",
   "execution_count": 8,
   "id": "c8174d48",
   "metadata": {},
   "outputs": [],
   "source": [
    "import pandas as pd \n",
    "for i in range(len(name_metro)):\n",
    "  nombres_produc_metro.append(name_metro[i].text)\n",
    "  precios_produc_metro.append(precios_metro[i].text)\n",
    "\n",
    "precios_metroformato= [ float(i[4:].replace(\",\",\"\")) for i in precios_produc_metro] \n",
    "precios_metroformato\n",
    "mercado=[\"metro\"]*len(precios_metroformato)\n"
   ]
  },
  {
   "cell_type": "code",
   "execution_count": 9,
   "id": "ab2df33a",
   "metadata": {},
   "outputs": [],
   "source": [
    "df_metro=pd.DataFrame({\"Nombre_producto\":nombres_produc_metro,\"Precios_soles \":precios_metroformato, \"Supermercado\":mercado })"
   ]
  },
  {
   "cell_type": "code",
   "execution_count": 10,
   "id": "14107e27",
   "metadata": {},
   "outputs": [
    {
     "name": "stdout",
     "output_type": "stream",
     "text": [
      "                                      Nombre_producto  Precios_soles   \\\n",
      "0                         Harina de Arroz Costeño 1 g            6.59   \n",
      "1   Galletas de Arroz Costeño Pimienta Doypack 150 gr            6.79   \n",
      "2                             Arroz Extra Costeño 5kg           23.45   \n",
      "3   Galletas de Arroz Costeño Tomate Intenso Doypa...            6.79   \n",
      "4   Galletas de Arroz Costeño Finas Hierbas Doypac...            6.79   \n",
      "5                   Arroz Superior Costeño Bolsa 5 Kg           17.90   \n",
      "6                  Arroz Superior Costeño Bolsa 750 g            3.70   \n",
      "7              Arroz Parbolizado Costeño Bolsa 750 gr            4.70   \n",
      "8                   Arroz Arborio Costeño Bolsa 750 g            8.80   \n",
      "9                     Arroz Extra Costeño Bolsa 750 g            4.25   \n",
      "10                 Arroz Integral Costeño Bolsa 750 g            5.30   \n",
      "11  Galletas de Arroz Dulce Sin Gluten Costeño Doy...            6.79   \n",
      "12  Galletas de Arroz Clásicas Sin Gluten Costeño ...            6.79   \n",
      "13                      Garbanzos Costeño Bolsa 500 g            6.00   \n",
      "14                   Arroz Extra Costeñito Saco 50 kg          189.30   \n",
      "\n",
      "   Supermercado  \n",
      "0         metro  \n",
      "1         metro  \n",
      "2         metro  \n",
      "3         metro  \n",
      "4         metro  \n",
      "5         metro  \n",
      "6         metro  \n",
      "7         metro  \n",
      "8         metro  \n",
      "9         metro  \n",
      "10        metro  \n",
      "11        metro  \n",
      "12        metro  \n",
      "13        metro  \n",
      "14        metro  \n"
     ]
    }
   ],
   "source": [
    "if soup_metro.find(\"div\",class_=\"subtitle\")==None:\n",
    "  print(df_metro)\n",
    "else:\n",
    "  print(\"No se econtro resultados para la busqueda\")"
   ]
  },
  {
   "cell_type": "code",
   "execution_count": 11,
   "id": "835f561c",
   "metadata": {},
   "outputs": [
    {
     "data": {
      "text/html": [
       "<div>\n",
       "<style scoped>\n",
       "    .dataframe tbody tr th:only-of-type {\n",
       "        vertical-align: middle;\n",
       "    }\n",
       "\n",
       "    .dataframe tbody tr th {\n",
       "        vertical-align: top;\n",
       "    }\n",
       "\n",
       "    .dataframe thead th {\n",
       "        text-align: right;\n",
       "    }\n",
       "</style>\n",
       "<table border=\"1\" class=\"dataframe\">\n",
       "  <thead>\n",
       "    <tr style=\"text-align: right;\">\n",
       "      <th></th>\n",
       "      <th>Nombre_producto</th>\n",
       "      <th>Precios_soles</th>\n",
       "      <th>Supermercado</th>\n",
       "    </tr>\n",
       "  </thead>\n",
       "  <tbody>\n",
       "    <tr>\n",
       "      <th>0</th>\n",
       "      <td>Harina de Arroz Costeño 1 g</td>\n",
       "      <td>6.59</td>\n",
       "      <td>metro</td>\n",
       "    </tr>\n",
       "    <tr>\n",
       "      <th>1</th>\n",
       "      <td>Galletas de Arroz Costeño Pimienta Doypack 150 gr</td>\n",
       "      <td>6.79</td>\n",
       "      <td>metro</td>\n",
       "    </tr>\n",
       "    <tr>\n",
       "      <th>2</th>\n",
       "      <td>Arroz Extra Costeño 5kg</td>\n",
       "      <td>23.45</td>\n",
       "      <td>metro</td>\n",
       "    </tr>\n",
       "    <tr>\n",
       "      <th>3</th>\n",
       "      <td>Galletas de Arroz Costeño Tomate Intenso Doypa...</td>\n",
       "      <td>6.79</td>\n",
       "      <td>metro</td>\n",
       "    </tr>\n",
       "    <tr>\n",
       "      <th>4</th>\n",
       "      <td>Galletas de Arroz Costeño Finas Hierbas Doypac...</td>\n",
       "      <td>6.79</td>\n",
       "      <td>metro</td>\n",
       "    </tr>\n",
       "    <tr>\n",
       "      <th>5</th>\n",
       "      <td>Arroz Superior Costeño Bolsa 5 Kg</td>\n",
       "      <td>17.90</td>\n",
       "      <td>metro</td>\n",
       "    </tr>\n",
       "    <tr>\n",
       "      <th>6</th>\n",
       "      <td>Arroz Superior Costeño Bolsa 750 g</td>\n",
       "      <td>3.70</td>\n",
       "      <td>metro</td>\n",
       "    </tr>\n",
       "    <tr>\n",
       "      <th>7</th>\n",
       "      <td>Arroz Parbolizado Costeño Bolsa 750 gr</td>\n",
       "      <td>4.70</td>\n",
       "      <td>metro</td>\n",
       "    </tr>\n",
       "    <tr>\n",
       "      <th>8</th>\n",
       "      <td>Arroz Arborio Costeño Bolsa 750 g</td>\n",
       "      <td>8.80</td>\n",
       "      <td>metro</td>\n",
       "    </tr>\n",
       "    <tr>\n",
       "      <th>9</th>\n",
       "      <td>Arroz Extra Costeño Bolsa 750 g</td>\n",
       "      <td>4.25</td>\n",
       "      <td>metro</td>\n",
       "    </tr>\n",
       "    <tr>\n",
       "      <th>10</th>\n",
       "      <td>Arroz Integral Costeño Bolsa 750 g</td>\n",
       "      <td>5.30</td>\n",
       "      <td>metro</td>\n",
       "    </tr>\n",
       "    <tr>\n",
       "      <th>11</th>\n",
       "      <td>Galletas de Arroz Dulce Sin Gluten Costeño Doy...</td>\n",
       "      <td>6.79</td>\n",
       "      <td>metro</td>\n",
       "    </tr>\n",
       "    <tr>\n",
       "      <th>12</th>\n",
       "      <td>Galletas de Arroz Clásicas Sin Gluten Costeño ...</td>\n",
       "      <td>6.79</td>\n",
       "      <td>metro</td>\n",
       "    </tr>\n",
       "    <tr>\n",
       "      <th>13</th>\n",
       "      <td>Garbanzos Costeño Bolsa 500 g</td>\n",
       "      <td>6.00</td>\n",
       "      <td>metro</td>\n",
       "    </tr>\n",
       "    <tr>\n",
       "      <th>14</th>\n",
       "      <td>Arroz Extra Costeñito Saco 50 kg</td>\n",
       "      <td>189.30</td>\n",
       "      <td>metro</td>\n",
       "    </tr>\n",
       "  </tbody>\n",
       "</table>\n",
       "</div>"
      ],
      "text/plain": [
       "                                      Nombre_producto  Precios_soles   \\\n",
       "0                         Harina de Arroz Costeño 1 g            6.59   \n",
       "1   Galletas de Arroz Costeño Pimienta Doypack 150 gr            6.79   \n",
       "2                             Arroz Extra Costeño 5kg           23.45   \n",
       "3   Galletas de Arroz Costeño Tomate Intenso Doypa...            6.79   \n",
       "4   Galletas de Arroz Costeño Finas Hierbas Doypac...            6.79   \n",
       "5                   Arroz Superior Costeño Bolsa 5 Kg           17.90   \n",
       "6                  Arroz Superior Costeño Bolsa 750 g            3.70   \n",
       "7              Arroz Parbolizado Costeño Bolsa 750 gr            4.70   \n",
       "8                   Arroz Arborio Costeño Bolsa 750 g            8.80   \n",
       "9                     Arroz Extra Costeño Bolsa 750 g            4.25   \n",
       "10                 Arroz Integral Costeño Bolsa 750 g            5.30   \n",
       "11  Galletas de Arroz Dulce Sin Gluten Costeño Doy...            6.79   \n",
       "12  Galletas de Arroz Clásicas Sin Gluten Costeño ...            6.79   \n",
       "13                      Garbanzos Costeño Bolsa 500 g            6.00   \n",
       "14                   Arroz Extra Costeñito Saco 50 kg          189.30   \n",
       "\n",
       "   Supermercado  \n",
       "0         metro  \n",
       "1         metro  \n",
       "2         metro  \n",
       "3         metro  \n",
       "4         metro  \n",
       "5         metro  \n",
       "6         metro  \n",
       "7         metro  \n",
       "8         metro  \n",
       "9         metro  \n",
       "10        metro  \n",
       "11        metro  \n",
       "12        metro  \n",
       "13        metro  \n",
       "14        metro  "
      ]
     },
     "execution_count": 11,
     "metadata": {},
     "output_type": "execute_result"
    }
   ],
   "source": [
    "df_metro"
   ]
  },
  {
   "cell_type": "markdown",
   "id": "6ba5a4af",
   "metadata": {},
   "source": [
    "#### PLAZA VEA"
   ]
  },
  {
   "cell_type": "code",
   "execution_count": null,
   "id": "38f38e85",
   "metadata": {},
   "outputs": [],
   "source": [
    "#instalar\n",
    "#!apt-get update\n",
    "#!apt install chromium-chromedriver\n",
    "#!cp /usr/lib/chromium-browser/chromedriver /usr/bin\n",
    "#!pip install selenium"
   ]
  },
  {
   "cell_type": "code",
   "execution_count": 12,
   "id": "8e173f73",
   "metadata": {},
   "outputs": [],
   "source": [
    "from selenium import webdriver\n",
    "\n",
    "options = webdriver.ChromeOptions()\n",
    "options.add_argument('--headless')\n",
    "options.add_argument('--no-sandbox')\n",
    "options.add_argument('--disable-dev-shm-usage')\n",
    "driver = webdriver.Chrome('chromedriver',options=options)\n",
    "driver.implicitly_wait(10)"
   ]
  },
  {
   "cell_type": "code",
   "execution_count": 13,
   "id": "e19f8e16",
   "metadata": {},
   "outputs": [],
   "source": [
    "driver.get(urlb_plazavea)"
   ]
  },
  {
   "cell_type": "code",
   "execution_count": 14,
   "id": "ae9ce23d",
   "metadata": {},
   "outputs": [
    {
     "data": {
      "text/plain": [
       "'https://www.plazavea.com.pe/search/?_query=arroz%20costeño'"
      ]
     },
     "execution_count": 14,
     "metadata": {},
     "output_type": "execute_result"
    }
   ],
   "source": [
    "urlb_plazavea"
   ]
  },
  {
   "cell_type": "code",
   "execution_count": 15,
   "id": "0e485227",
   "metadata": {},
   "outputs": [],
   "source": [
    "from selenium.webdriver.common.by import By"
   ]
  },
  {
   "cell_type": "code",
   "execution_count": 16,
   "id": "89a6f90f",
   "metadata": {},
   "outputs": [
    {
     "data": {
      "text/plain": [
       "13"
      ]
     },
     "execution_count": 16,
     "metadata": {},
     "output_type": "execute_result"
    }
   ],
   "source": [
    "gs = driver.find_elements(By.CLASS_NAME, \"Showcase__name\")\n",
    "nombre_PV=[]\n",
    "for elemento in gs:\n",
    "  nombre_PV.append(elemento.text[:-3])\n",
    "\n",
    "nombre_PV\n",
    "len(nombre_PV)"
   ]
  },
  {
   "cell_type": "code",
   "execution_count": 17,
   "id": "c49ba7fd",
   "metadata": {},
   "outputs": [
    {
     "data": {
      "text/plain": [
       "['Arroz Extra COSTEÑO Bolsa ',\n",
       " 'Arroz Extra COSTEÑO Bolsa 7',\n",
       " 'Galleta de Arroz COSTEÑO Clásica Bolsa 1',\n",
       " 'Arroz Superior COSTEÑO Bolsa 7',\n",
       " 'Arroz Superior COSTEÑO Bolsa ',\n",
       " 'Arroz Integral COSTEÑO Bolsa 7',\n",
       " 'Galletas de Arroz COSTEÑO Dulce Bolsa 1',\n",
       " 'Arroz Parbolizado COSTEÑO Bolsa 7',\n",
       " 'Harina de Arroz COSTEÑO Bolsa ',\n",
       " 'Galleta de Arroz COSTEÑO Tomate Intenso Doypac',\n",
       " 'Galleta de Arroz COSTEÑO Finas Hierbas Doypack',\n",
       " 'Arroz Arborio COSTEÑO Bolsa 7',\n",
       " 'Galleta de Arroz COSTEÑO Pimienta Doypack 1']"
      ]
     },
     "execution_count": 17,
     "metadata": {},
     "output_type": "execute_result"
    }
   ],
   "source": [
    "nombre_PV"
   ]
  },
  {
   "cell_type": "code",
   "execution_count": 18,
   "id": "c9bfaeb4",
   "metadata": {},
   "outputs": [],
   "source": [
    "import re"
   ]
  },
  {
   "cell_type": "code",
   "execution_count": 19,
   "id": "96070f81",
   "metadata": {},
   "outputs": [
    {
     "data": {
      "text/plain": [
       "13"
      ]
     },
     "execution_count": 19,
     "metadata": {},
     "output_type": "execute_result"
    }
   ],
   "source": [
    "gss=driver.find_elements(By.XPATH,\"//div[@class='Showcase__salePrice']\")\n",
    "precios_PV=[]\n",
    "for elemento in gss:\n",
    "  sentence = elemento.text\n",
    "  s=re.findall(r'-?\\d+\\.?\\d*', sentence)\n",
    "  s=float(s[0])\n",
    "  precios_PV.append(s)\n",
    "len(precios_PV)"
   ]
  },
  {
   "cell_type": "code",
   "execution_count": 20,
   "id": "1fa39d48",
   "metadata": {},
   "outputs": [
    {
     "data": {
      "text/plain": [
       "[23.5, 4.2, 6.79, 3.7, 20.6, 5.3, 6.79, 4.7, 6.7, 6.79, 6.79, 8.8, 6.79]"
      ]
     },
     "execution_count": 20,
     "metadata": {},
     "output_type": "execute_result"
    }
   ],
   "source": [
    "precios_PV"
   ]
  },
  {
   "cell_type": "code",
   "execution_count": 21,
   "id": "f5a130d5",
   "metadata": {},
   "outputs": [
    {
     "data": {
      "text/plain": [
       "13"
      ]
     },
     "execution_count": 21,
     "metadata": {},
     "output_type": "execute_result"
    }
   ],
   "source": [
    "len(precios_PV)"
   ]
  },
  {
   "cell_type": "code",
   "execution_count": 22,
   "id": "788a45e3",
   "metadata": {},
   "outputs": [],
   "source": [
    "df_plazavea=pd.DataFrame({\"Nombre_producto\":nombre_PV,\"Precios_soles \":precios_PV, \"Supermercado\":[\"plazavea\"]*len(nombre_PV) })"
   ]
  },
  {
   "cell_type": "code",
   "execution_count": 23,
   "id": "02d0e4d1",
   "metadata": {},
   "outputs": [
    {
     "data": {
      "text/html": [
       "<div>\n",
       "<style scoped>\n",
       "    .dataframe tbody tr th:only-of-type {\n",
       "        vertical-align: middle;\n",
       "    }\n",
       "\n",
       "    .dataframe tbody tr th {\n",
       "        vertical-align: top;\n",
       "    }\n",
       "\n",
       "    .dataframe thead th {\n",
       "        text-align: right;\n",
       "    }\n",
       "</style>\n",
       "<table border=\"1\" class=\"dataframe\">\n",
       "  <thead>\n",
       "    <tr style=\"text-align: right;\">\n",
       "      <th></th>\n",
       "      <th>Nombre_producto</th>\n",
       "      <th>Precios_soles</th>\n",
       "      <th>Supermercado</th>\n",
       "    </tr>\n",
       "  </thead>\n",
       "  <tbody>\n",
       "    <tr>\n",
       "      <th>0</th>\n",
       "      <td>Arroz Extra COSTEÑO Bolsa</td>\n",
       "      <td>23.50</td>\n",
       "      <td>plazavea</td>\n",
       "    </tr>\n",
       "    <tr>\n",
       "      <th>1</th>\n",
       "      <td>Arroz Extra COSTEÑO Bolsa 7</td>\n",
       "      <td>4.20</td>\n",
       "      <td>plazavea</td>\n",
       "    </tr>\n",
       "    <tr>\n",
       "      <th>2</th>\n",
       "      <td>Galleta de Arroz COSTEÑO Clásica Bolsa 1</td>\n",
       "      <td>6.79</td>\n",
       "      <td>plazavea</td>\n",
       "    </tr>\n",
       "    <tr>\n",
       "      <th>3</th>\n",
       "      <td>Arroz Superior COSTEÑO Bolsa 7</td>\n",
       "      <td>3.70</td>\n",
       "      <td>plazavea</td>\n",
       "    </tr>\n",
       "    <tr>\n",
       "      <th>4</th>\n",
       "      <td>Arroz Superior COSTEÑO Bolsa</td>\n",
       "      <td>20.60</td>\n",
       "      <td>plazavea</td>\n",
       "    </tr>\n",
       "    <tr>\n",
       "      <th>5</th>\n",
       "      <td>Arroz Integral COSTEÑO Bolsa 7</td>\n",
       "      <td>5.30</td>\n",
       "      <td>plazavea</td>\n",
       "    </tr>\n",
       "    <tr>\n",
       "      <th>6</th>\n",
       "      <td>Galletas de Arroz COSTEÑO Dulce Bolsa 1</td>\n",
       "      <td>6.79</td>\n",
       "      <td>plazavea</td>\n",
       "    </tr>\n",
       "    <tr>\n",
       "      <th>7</th>\n",
       "      <td>Arroz Parbolizado COSTEÑO Bolsa 7</td>\n",
       "      <td>4.70</td>\n",
       "      <td>plazavea</td>\n",
       "    </tr>\n",
       "    <tr>\n",
       "      <th>8</th>\n",
       "      <td>Harina de Arroz COSTEÑO Bolsa</td>\n",
       "      <td>6.70</td>\n",
       "      <td>plazavea</td>\n",
       "    </tr>\n",
       "    <tr>\n",
       "      <th>9</th>\n",
       "      <td>Galleta de Arroz COSTEÑO Tomate Intenso Doypac</td>\n",
       "      <td>6.79</td>\n",
       "      <td>plazavea</td>\n",
       "    </tr>\n",
       "    <tr>\n",
       "      <th>10</th>\n",
       "      <td>Galleta de Arroz COSTEÑO Finas Hierbas Doypack</td>\n",
       "      <td>6.79</td>\n",
       "      <td>plazavea</td>\n",
       "    </tr>\n",
       "    <tr>\n",
       "      <th>11</th>\n",
       "      <td>Arroz Arborio COSTEÑO Bolsa 7</td>\n",
       "      <td>8.80</td>\n",
       "      <td>plazavea</td>\n",
       "    </tr>\n",
       "    <tr>\n",
       "      <th>12</th>\n",
       "      <td>Galleta de Arroz COSTEÑO Pimienta Doypack 1</td>\n",
       "      <td>6.79</td>\n",
       "      <td>plazavea</td>\n",
       "    </tr>\n",
       "  </tbody>\n",
       "</table>\n",
       "</div>"
      ],
      "text/plain": [
       "                                   Nombre_producto  Precios_soles   \\\n",
       "0                       Arroz Extra COSTEÑO Bolsa            23.50   \n",
       "1                      Arroz Extra COSTEÑO Bolsa 7            4.20   \n",
       "2         Galleta de Arroz COSTEÑO Clásica Bolsa 1            6.79   \n",
       "3                   Arroz Superior COSTEÑO Bolsa 7            3.70   \n",
       "4                    Arroz Superior COSTEÑO Bolsa            20.60   \n",
       "5                   Arroz Integral COSTEÑO Bolsa 7            5.30   \n",
       "6          Galletas de Arroz COSTEÑO Dulce Bolsa 1            6.79   \n",
       "7                Arroz Parbolizado COSTEÑO Bolsa 7            4.70   \n",
       "8                   Harina de Arroz COSTEÑO Bolsa             6.70   \n",
       "9   Galleta de Arroz COSTEÑO Tomate Intenso Doypac            6.79   \n",
       "10  Galleta de Arroz COSTEÑO Finas Hierbas Doypack            6.79   \n",
       "11                   Arroz Arborio COSTEÑO Bolsa 7            8.80   \n",
       "12     Galleta de Arroz COSTEÑO Pimienta Doypack 1            6.79   \n",
       "\n",
       "   Supermercado  \n",
       "0      plazavea  \n",
       "1      plazavea  \n",
       "2      plazavea  \n",
       "3      plazavea  \n",
       "4      plazavea  \n",
       "5      plazavea  \n",
       "6      plazavea  \n",
       "7      plazavea  \n",
       "8      plazavea  \n",
       "9      plazavea  \n",
       "10     plazavea  \n",
       "11     plazavea  \n",
       "12     plazavea  "
      ]
     },
     "execution_count": 23,
     "metadata": {},
     "output_type": "execute_result"
    }
   ],
   "source": [
    "df_plazavea"
   ]
  },
  {
   "cell_type": "markdown",
   "id": "e6fe7803",
   "metadata": {},
   "source": [
    "#### TOTTUS"
   ]
  },
  {
   "cell_type": "code",
   "execution_count": 24,
   "id": "de346f62",
   "metadata": {},
   "outputs": [
    {
     "data": {
      "text/plain": [
       "'https://www.tottus.com.pe/buscar?q=arroz%20costeño'"
      ]
     },
     "execution_count": 24,
     "metadata": {},
     "output_type": "execute_result"
    }
   ],
   "source": [
    "\n",
    "urlb_tottus"
   ]
  },
  {
   "cell_type": "code",
   "execution_count": 25,
   "id": "3e505f9a",
   "metadata": {},
   "outputs": [],
   "source": [
    "driver.get(urlb_tottus)"
   ]
  },
  {
   "cell_type": "code",
   "execution_count": 27,
   "id": "ee2b50d5",
   "metadata": {},
   "outputs": [],
   "source": [
    "from selenium.webdriver.common.by import By\n"
   ]
  },
  {
   "cell_type": "code",
   "execution_count": 28,
   "id": "a47e34c6",
   "metadata": {},
   "outputs": [
    {
     "data": {
      "text/plain": [
       "['ARROZ ARBORIO COSTEÑO 750 GR',\n",
       " 'ARROZ SUPERIOR COSTEÑO 5 KG',\n",
       " 'ARROZ SUPERIOR COSTEÑO',\n",
       " 'ARROZ EXTRA COSTEÑO 5 KG',\n",
       " 'ARROZ EXTRA COSTEÑO 750 GR',\n",
       " 'ARROZ INTEGRAL COSTEÑO 750 GR',\n",
       " 'ARROZ PARBOLIZADO COTEÑO 750 GR',\n",
       " 'HARINA DE ARROZ COSTEÑO 1 KG',\n",
       " 'GALLETAS DE ARROZ FINAS HIERBAS COSTEÑO 150 GR',\n",
       " 'GALLETAS DE ARROZ TOMATE INTENSO COSTEÑO 150 GR',\n",
       " 'GALLETAS DE ARROZ CLÁSICAS COSTEÑO 150 GR',\n",
       " 'GALLETAS DE ARROZ DULCE COSTEÑO 150 GR']"
      ]
     },
     "execution_count": 28,
     "metadata": {},
     "output_type": "execute_result"
    }
   ],
   "source": [
    "g_tottus = driver.find_elements(By.XPATH,\"//h2[@class='jsx-369422875 name title mini']\")\n",
    "nombre_T=[]\n",
    "for elemento in g_tottus:\n",
    "  nombre_T.append(elemento.text)\n",
    "\n",
    "nombre_T"
   ]
  },
  {
   "cell_type": "code",
   "execution_count": 29,
   "id": "977d2913",
   "metadata": {},
   "outputs": [
    {
     "data": {
      "text/plain": [
       "12"
      ]
     },
     "execution_count": 29,
     "metadata": {},
     "output_type": "execute_result"
    }
   ],
   "source": [
    "len(nombre_T)"
   ]
  },
  {
   "cell_type": "code",
   "execution_count": 30,
   "id": "2558f9b7",
   "metadata": {},
   "outputs": [
    {
     "data": {
      "text/plain": [
       "[10.2, 20.6, 4.3, 22.5, 4.8, 6.7, 5.5, 6.5, 6.9, 6.9, 6.9, 6.9]"
      ]
     },
     "execution_count": 30,
     "metadata": {},
     "output_type": "execute_result"
    }
   ],
   "source": [
    "g_tottus_precios = driver.find_elements(By.XPATH,\"//span[@class='list price medium cmrPrice ']\")\n",
    "precios_T=[]\n",
    "for elemento in g_tottus_precios:\n",
    "  sentence = elemento.text\n",
    "  s=re.findall(r'-?\\d+\\.?\\d*', sentence)\n",
    "  s=float(s[0])\n",
    "  precios_T.append(s)\n",
    "precios_T"
   ]
  },
  {
   "cell_type": "code",
   "execution_count": 31,
   "id": "7e87f4a5",
   "metadata": {},
   "outputs": [
    {
     "data": {
      "text/plain": [
       "12"
      ]
     },
     "execution_count": 31,
     "metadata": {},
     "output_type": "execute_result"
    }
   ],
   "source": [
    "len(nombre_T[0:47])"
   ]
  },
  {
   "cell_type": "code",
   "execution_count": 36,
   "id": "ff4185a9",
   "metadata": {},
   "outputs": [],
   "source": [
    "df_tottus=pd.DataFrame({\"Nombre_producto\":nombre_T,\"Precios_soles \":precios_T, \"Supermercado\":[\"tottus\"]*len(precios_T) })"
   ]
  },
  {
   "cell_type": "code",
   "execution_count": 37,
   "id": "986501ff",
   "metadata": {},
   "outputs": [
    {
     "data": {
      "text/html": [
       "<div>\n",
       "<style scoped>\n",
       "    .dataframe tbody tr th:only-of-type {\n",
       "        vertical-align: middle;\n",
       "    }\n",
       "\n",
       "    .dataframe tbody tr th {\n",
       "        vertical-align: top;\n",
       "    }\n",
       "\n",
       "    .dataframe thead th {\n",
       "        text-align: right;\n",
       "    }\n",
       "</style>\n",
       "<table border=\"1\" class=\"dataframe\">\n",
       "  <thead>\n",
       "    <tr style=\"text-align: right;\">\n",
       "      <th></th>\n",
       "      <th>Nombre_producto</th>\n",
       "      <th>Precios_soles</th>\n",
       "      <th>Supermercado</th>\n",
       "    </tr>\n",
       "  </thead>\n",
       "  <tbody>\n",
       "    <tr>\n",
       "      <th>0</th>\n",
       "      <td>ARROZ ARBORIO COSTEÑO 750 GR</td>\n",
       "      <td>10.2</td>\n",
       "      <td>tottus</td>\n",
       "    </tr>\n",
       "    <tr>\n",
       "      <th>1</th>\n",
       "      <td>ARROZ SUPERIOR COSTEÑO 5 KG</td>\n",
       "      <td>20.6</td>\n",
       "      <td>tottus</td>\n",
       "    </tr>\n",
       "    <tr>\n",
       "      <th>2</th>\n",
       "      <td>ARROZ SUPERIOR COSTEÑO</td>\n",
       "      <td>4.3</td>\n",
       "      <td>tottus</td>\n",
       "    </tr>\n",
       "    <tr>\n",
       "      <th>3</th>\n",
       "      <td>ARROZ EXTRA COSTEÑO 5 KG</td>\n",
       "      <td>22.5</td>\n",
       "      <td>tottus</td>\n",
       "    </tr>\n",
       "    <tr>\n",
       "      <th>4</th>\n",
       "      <td>ARROZ EXTRA COSTEÑO 750 GR</td>\n",
       "      <td>4.8</td>\n",
       "      <td>tottus</td>\n",
       "    </tr>\n",
       "    <tr>\n",
       "      <th>5</th>\n",
       "      <td>ARROZ INTEGRAL COSTEÑO 750 GR</td>\n",
       "      <td>6.7</td>\n",
       "      <td>tottus</td>\n",
       "    </tr>\n",
       "    <tr>\n",
       "      <th>6</th>\n",
       "      <td>ARROZ PARBOLIZADO COTEÑO 750 GR</td>\n",
       "      <td>5.5</td>\n",
       "      <td>tottus</td>\n",
       "    </tr>\n",
       "    <tr>\n",
       "      <th>7</th>\n",
       "      <td>HARINA DE ARROZ COSTEÑO 1 KG</td>\n",
       "      <td>6.5</td>\n",
       "      <td>tottus</td>\n",
       "    </tr>\n",
       "    <tr>\n",
       "      <th>8</th>\n",
       "      <td>GALLETAS DE ARROZ FINAS HIERBAS COSTEÑO 150 GR</td>\n",
       "      <td>6.9</td>\n",
       "      <td>tottus</td>\n",
       "    </tr>\n",
       "    <tr>\n",
       "      <th>9</th>\n",
       "      <td>GALLETAS DE ARROZ TOMATE INTENSO COSTEÑO 150 GR</td>\n",
       "      <td>6.9</td>\n",
       "      <td>tottus</td>\n",
       "    </tr>\n",
       "    <tr>\n",
       "      <th>10</th>\n",
       "      <td>GALLETAS DE ARROZ CLÁSICAS COSTEÑO 150 GR</td>\n",
       "      <td>6.9</td>\n",
       "      <td>tottus</td>\n",
       "    </tr>\n",
       "    <tr>\n",
       "      <th>11</th>\n",
       "      <td>GALLETAS DE ARROZ DULCE COSTEÑO 150 GR</td>\n",
       "      <td>6.9</td>\n",
       "      <td>tottus</td>\n",
       "    </tr>\n",
       "  </tbody>\n",
       "</table>\n",
       "</div>"
      ],
      "text/plain": [
       "                                    Nombre_producto  Precios_soles   \\\n",
       "0                      ARROZ ARBORIO COSTEÑO 750 GR            10.2   \n",
       "1                       ARROZ SUPERIOR COSTEÑO 5 KG            20.6   \n",
       "2                            ARROZ SUPERIOR COSTEÑO             4.3   \n",
       "3                          ARROZ EXTRA COSTEÑO 5 KG            22.5   \n",
       "4                        ARROZ EXTRA COSTEÑO 750 GR             4.8   \n",
       "5                     ARROZ INTEGRAL COSTEÑO 750 GR             6.7   \n",
       "6                   ARROZ PARBOLIZADO COTEÑO 750 GR             5.5   \n",
       "7                      HARINA DE ARROZ COSTEÑO 1 KG             6.5   \n",
       "8    GALLETAS DE ARROZ FINAS HIERBAS COSTEÑO 150 GR             6.9   \n",
       "9   GALLETAS DE ARROZ TOMATE INTENSO COSTEÑO 150 GR             6.9   \n",
       "10        GALLETAS DE ARROZ CLÁSICAS COSTEÑO 150 GR             6.9   \n",
       "11           GALLETAS DE ARROZ DULCE COSTEÑO 150 GR             6.9   \n",
       "\n",
       "   Supermercado  \n",
       "0        tottus  \n",
       "1        tottus  \n",
       "2        tottus  \n",
       "3        tottus  \n",
       "4        tottus  \n",
       "5        tottus  \n",
       "6        tottus  \n",
       "7        tottus  \n",
       "8        tottus  \n",
       "9        tottus  \n",
       "10       tottus  \n",
       "11       tottus  "
      ]
     },
     "execution_count": 37,
     "metadata": {},
     "output_type": "execute_result"
    }
   ],
   "source": [
    "df_tottus"
   ]
  },
  {
   "cell_type": "code",
   "execution_count": 38,
   "id": "698138f5",
   "metadata": {},
   "outputs": [],
   "source": [
    "import numpy as np\n",
    "import pandas as pd"
   ]
  },
  {
   "cell_type": "code",
   "execution_count": 39,
   "id": "29bb5fab",
   "metadata": {},
   "outputs": [
    {
     "data": {
      "text/html": [
       "<div>\n",
       "<style scoped>\n",
       "    .dataframe tbody tr th:only-of-type {\n",
       "        vertical-align: middle;\n",
       "    }\n",
       "\n",
       "    .dataframe tbody tr th {\n",
       "        vertical-align: top;\n",
       "    }\n",
       "\n",
       "    .dataframe thead th {\n",
       "        text-align: right;\n",
       "    }\n",
       "</style>\n",
       "<table border=\"1\" class=\"dataframe\">\n",
       "  <thead>\n",
       "    <tr style=\"text-align: right;\">\n",
       "      <th></th>\n",
       "      <th>Nombre_producto</th>\n",
       "      <th>Precios_soles</th>\n",
       "      <th>Supermercado</th>\n",
       "    </tr>\n",
       "  </thead>\n",
       "  <tbody>\n",
       "    <tr>\n",
       "      <th>0</th>\n",
       "      <td>ARROZ ARBORIO COSTEÑO 750 GR</td>\n",
       "      <td>10.20</td>\n",
       "      <td>tottus</td>\n",
       "    </tr>\n",
       "    <tr>\n",
       "      <th>1</th>\n",
       "      <td>ARROZ SUPERIOR COSTEÑO 5 KG</td>\n",
       "      <td>20.60</td>\n",
       "      <td>tottus</td>\n",
       "    </tr>\n",
       "    <tr>\n",
       "      <th>2</th>\n",
       "      <td>ARROZ SUPERIOR COSTEÑO</td>\n",
       "      <td>4.30</td>\n",
       "      <td>tottus</td>\n",
       "    </tr>\n",
       "    <tr>\n",
       "      <th>3</th>\n",
       "      <td>ARROZ EXTRA COSTEÑO 5 KG</td>\n",
       "      <td>22.50</td>\n",
       "      <td>tottus</td>\n",
       "    </tr>\n",
       "    <tr>\n",
       "      <th>4</th>\n",
       "      <td>ARROZ EXTRA COSTEÑO 750 GR</td>\n",
       "      <td>4.80</td>\n",
       "      <td>tottus</td>\n",
       "    </tr>\n",
       "    <tr>\n",
       "      <th>5</th>\n",
       "      <td>ARROZ INTEGRAL COSTEÑO 750 GR</td>\n",
       "      <td>6.70</td>\n",
       "      <td>tottus</td>\n",
       "    </tr>\n",
       "    <tr>\n",
       "      <th>6</th>\n",
       "      <td>ARROZ PARBOLIZADO COTEÑO 750 GR</td>\n",
       "      <td>5.50</td>\n",
       "      <td>tottus</td>\n",
       "    </tr>\n",
       "    <tr>\n",
       "      <th>7</th>\n",
       "      <td>HARINA DE ARROZ COSTEÑO 1 KG</td>\n",
       "      <td>6.50</td>\n",
       "      <td>tottus</td>\n",
       "    </tr>\n",
       "    <tr>\n",
       "      <th>8</th>\n",
       "      <td>GALLETAS DE ARROZ FINAS HIERBAS COSTEÑO 150 GR</td>\n",
       "      <td>6.90</td>\n",
       "      <td>tottus</td>\n",
       "    </tr>\n",
       "    <tr>\n",
       "      <th>9</th>\n",
       "      <td>GALLETAS DE ARROZ TOMATE INTENSO COSTEÑO 150 GR</td>\n",
       "      <td>6.90</td>\n",
       "      <td>tottus</td>\n",
       "    </tr>\n",
       "    <tr>\n",
       "      <th>10</th>\n",
       "      <td>GALLETAS DE ARROZ CLÁSICAS COSTEÑO 150 GR</td>\n",
       "      <td>6.90</td>\n",
       "      <td>tottus</td>\n",
       "    </tr>\n",
       "    <tr>\n",
       "      <th>11</th>\n",
       "      <td>GALLETAS DE ARROZ DULCE COSTEÑO 150 GR</td>\n",
       "      <td>6.90</td>\n",
       "      <td>tottus</td>\n",
       "    </tr>\n",
       "    <tr>\n",
       "      <th>0</th>\n",
       "      <td>Arroz Extra COSTEÑO Bolsa</td>\n",
       "      <td>23.50</td>\n",
       "      <td>plazavea</td>\n",
       "    </tr>\n",
       "    <tr>\n",
       "      <th>1</th>\n",
       "      <td>Arroz Extra COSTEÑO Bolsa 7</td>\n",
       "      <td>4.20</td>\n",
       "      <td>plazavea</td>\n",
       "    </tr>\n",
       "    <tr>\n",
       "      <th>2</th>\n",
       "      <td>Galleta de Arroz COSTEÑO Clásica Bolsa 1</td>\n",
       "      <td>6.79</td>\n",
       "      <td>plazavea</td>\n",
       "    </tr>\n",
       "    <tr>\n",
       "      <th>3</th>\n",
       "      <td>Arroz Superior COSTEÑO Bolsa 7</td>\n",
       "      <td>3.70</td>\n",
       "      <td>plazavea</td>\n",
       "    </tr>\n",
       "    <tr>\n",
       "      <th>4</th>\n",
       "      <td>Arroz Superior COSTEÑO Bolsa</td>\n",
       "      <td>20.60</td>\n",
       "      <td>plazavea</td>\n",
       "    </tr>\n",
       "    <tr>\n",
       "      <th>5</th>\n",
       "      <td>Arroz Integral COSTEÑO Bolsa 7</td>\n",
       "      <td>5.30</td>\n",
       "      <td>plazavea</td>\n",
       "    </tr>\n",
       "    <tr>\n",
       "      <th>6</th>\n",
       "      <td>Galletas de Arroz COSTEÑO Dulce Bolsa 1</td>\n",
       "      <td>6.79</td>\n",
       "      <td>plazavea</td>\n",
       "    </tr>\n",
       "    <tr>\n",
       "      <th>7</th>\n",
       "      <td>Arroz Parbolizado COSTEÑO Bolsa 7</td>\n",
       "      <td>4.70</td>\n",
       "      <td>plazavea</td>\n",
       "    </tr>\n",
       "    <tr>\n",
       "      <th>8</th>\n",
       "      <td>Harina de Arroz COSTEÑO Bolsa</td>\n",
       "      <td>6.70</td>\n",
       "      <td>plazavea</td>\n",
       "    </tr>\n",
       "    <tr>\n",
       "      <th>9</th>\n",
       "      <td>Galleta de Arroz COSTEÑO Tomate Intenso Doypac</td>\n",
       "      <td>6.79</td>\n",
       "      <td>plazavea</td>\n",
       "    </tr>\n",
       "    <tr>\n",
       "      <th>10</th>\n",
       "      <td>Galleta de Arroz COSTEÑO Finas Hierbas Doypack</td>\n",
       "      <td>6.79</td>\n",
       "      <td>plazavea</td>\n",
       "    </tr>\n",
       "    <tr>\n",
       "      <th>11</th>\n",
       "      <td>Arroz Arborio COSTEÑO Bolsa 7</td>\n",
       "      <td>8.80</td>\n",
       "      <td>plazavea</td>\n",
       "    </tr>\n",
       "    <tr>\n",
       "      <th>12</th>\n",
       "      <td>Galleta de Arroz COSTEÑO Pimienta Doypack 1</td>\n",
       "      <td>6.79</td>\n",
       "      <td>plazavea</td>\n",
       "    </tr>\n",
       "    <tr>\n",
       "      <th>0</th>\n",
       "      <td>Harina de Arroz Costeño 1 g</td>\n",
       "      <td>6.59</td>\n",
       "      <td>metro</td>\n",
       "    </tr>\n",
       "    <tr>\n",
       "      <th>1</th>\n",
       "      <td>Galletas de Arroz Costeño Pimienta Doypack 150 gr</td>\n",
       "      <td>6.79</td>\n",
       "      <td>metro</td>\n",
       "    </tr>\n",
       "    <tr>\n",
       "      <th>2</th>\n",
       "      <td>Arroz Extra Costeño 5kg</td>\n",
       "      <td>23.45</td>\n",
       "      <td>metro</td>\n",
       "    </tr>\n",
       "    <tr>\n",
       "      <th>3</th>\n",
       "      <td>Galletas de Arroz Costeño Tomate Intenso Doypa...</td>\n",
       "      <td>6.79</td>\n",
       "      <td>metro</td>\n",
       "    </tr>\n",
       "    <tr>\n",
       "      <th>4</th>\n",
       "      <td>Galletas de Arroz Costeño Finas Hierbas Doypac...</td>\n",
       "      <td>6.79</td>\n",
       "      <td>metro</td>\n",
       "    </tr>\n",
       "    <tr>\n",
       "      <th>5</th>\n",
       "      <td>Arroz Superior Costeño Bolsa 5 Kg</td>\n",
       "      <td>17.90</td>\n",
       "      <td>metro</td>\n",
       "    </tr>\n",
       "    <tr>\n",
       "      <th>6</th>\n",
       "      <td>Arroz Superior Costeño Bolsa 750 g</td>\n",
       "      <td>3.70</td>\n",
       "      <td>metro</td>\n",
       "    </tr>\n",
       "    <tr>\n",
       "      <th>7</th>\n",
       "      <td>Arroz Parbolizado Costeño Bolsa 750 gr</td>\n",
       "      <td>4.70</td>\n",
       "      <td>metro</td>\n",
       "    </tr>\n",
       "    <tr>\n",
       "      <th>8</th>\n",
       "      <td>Arroz Arborio Costeño Bolsa 750 g</td>\n",
       "      <td>8.80</td>\n",
       "      <td>metro</td>\n",
       "    </tr>\n",
       "    <tr>\n",
       "      <th>9</th>\n",
       "      <td>Arroz Extra Costeño Bolsa 750 g</td>\n",
       "      <td>4.25</td>\n",
       "      <td>metro</td>\n",
       "    </tr>\n",
       "    <tr>\n",
       "      <th>10</th>\n",
       "      <td>Arroz Integral Costeño Bolsa 750 g</td>\n",
       "      <td>5.30</td>\n",
       "      <td>metro</td>\n",
       "    </tr>\n",
       "    <tr>\n",
       "      <th>11</th>\n",
       "      <td>Galletas de Arroz Dulce Sin Gluten Costeño Doy...</td>\n",
       "      <td>6.79</td>\n",
       "      <td>metro</td>\n",
       "    </tr>\n",
       "    <tr>\n",
       "      <th>12</th>\n",
       "      <td>Galletas de Arroz Clásicas Sin Gluten Costeño ...</td>\n",
       "      <td>6.79</td>\n",
       "      <td>metro</td>\n",
       "    </tr>\n",
       "    <tr>\n",
       "      <th>13</th>\n",
       "      <td>Garbanzos Costeño Bolsa 500 g</td>\n",
       "      <td>6.00</td>\n",
       "      <td>metro</td>\n",
       "    </tr>\n",
       "    <tr>\n",
       "      <th>14</th>\n",
       "      <td>Arroz Extra Costeñito Saco 50 kg</td>\n",
       "      <td>189.30</td>\n",
       "      <td>metro</td>\n",
       "    </tr>\n",
       "  </tbody>\n",
       "</table>\n",
       "</div>"
      ],
      "text/plain": [
       "                                      Nombre_producto  Precios_soles   \\\n",
       "0                        ARROZ ARBORIO COSTEÑO 750 GR           10.20   \n",
       "1                         ARROZ SUPERIOR COSTEÑO 5 KG           20.60   \n",
       "2                              ARROZ SUPERIOR COSTEÑO            4.30   \n",
       "3                            ARROZ EXTRA COSTEÑO 5 KG           22.50   \n",
       "4                          ARROZ EXTRA COSTEÑO 750 GR            4.80   \n",
       "5                       ARROZ INTEGRAL COSTEÑO 750 GR            6.70   \n",
       "6                     ARROZ PARBOLIZADO COTEÑO 750 GR            5.50   \n",
       "7                        HARINA DE ARROZ COSTEÑO 1 KG            6.50   \n",
       "8      GALLETAS DE ARROZ FINAS HIERBAS COSTEÑO 150 GR            6.90   \n",
       "9     GALLETAS DE ARROZ TOMATE INTENSO COSTEÑO 150 GR            6.90   \n",
       "10          GALLETAS DE ARROZ CLÁSICAS COSTEÑO 150 GR            6.90   \n",
       "11             GALLETAS DE ARROZ DULCE COSTEÑO 150 GR            6.90   \n",
       "0                          Arroz Extra COSTEÑO Bolsa            23.50   \n",
       "1                         Arroz Extra COSTEÑO Bolsa 7            4.20   \n",
       "2            Galleta de Arroz COSTEÑO Clásica Bolsa 1            6.79   \n",
       "3                      Arroz Superior COSTEÑO Bolsa 7            3.70   \n",
       "4                       Arroz Superior COSTEÑO Bolsa            20.60   \n",
       "5                      Arroz Integral COSTEÑO Bolsa 7            5.30   \n",
       "6             Galletas de Arroz COSTEÑO Dulce Bolsa 1            6.79   \n",
       "7                   Arroz Parbolizado COSTEÑO Bolsa 7            4.70   \n",
       "8                      Harina de Arroz COSTEÑO Bolsa             6.70   \n",
       "9      Galleta de Arroz COSTEÑO Tomate Intenso Doypac            6.79   \n",
       "10     Galleta de Arroz COSTEÑO Finas Hierbas Doypack            6.79   \n",
       "11                      Arroz Arborio COSTEÑO Bolsa 7            8.80   \n",
       "12        Galleta de Arroz COSTEÑO Pimienta Doypack 1            6.79   \n",
       "0                         Harina de Arroz Costeño 1 g            6.59   \n",
       "1   Galletas de Arroz Costeño Pimienta Doypack 150 gr            6.79   \n",
       "2                             Arroz Extra Costeño 5kg           23.45   \n",
       "3   Galletas de Arroz Costeño Tomate Intenso Doypa...            6.79   \n",
       "4   Galletas de Arroz Costeño Finas Hierbas Doypac...            6.79   \n",
       "5                   Arroz Superior Costeño Bolsa 5 Kg           17.90   \n",
       "6                  Arroz Superior Costeño Bolsa 750 g            3.70   \n",
       "7              Arroz Parbolizado Costeño Bolsa 750 gr            4.70   \n",
       "8                   Arroz Arborio Costeño Bolsa 750 g            8.80   \n",
       "9                     Arroz Extra Costeño Bolsa 750 g            4.25   \n",
       "10                 Arroz Integral Costeño Bolsa 750 g            5.30   \n",
       "11  Galletas de Arroz Dulce Sin Gluten Costeño Doy...            6.79   \n",
       "12  Galletas de Arroz Clásicas Sin Gluten Costeño ...            6.79   \n",
       "13                      Garbanzos Costeño Bolsa 500 g            6.00   \n",
       "14                   Arroz Extra Costeñito Saco 50 kg          189.30   \n",
       "\n",
       "   Supermercado  \n",
       "0        tottus  \n",
       "1        tottus  \n",
       "2        tottus  \n",
       "3        tottus  \n",
       "4        tottus  \n",
       "5        tottus  \n",
       "6        tottus  \n",
       "7        tottus  \n",
       "8        tottus  \n",
       "9        tottus  \n",
       "10       tottus  \n",
       "11       tottus  \n",
       "0      plazavea  \n",
       "1      plazavea  \n",
       "2      plazavea  \n",
       "3      plazavea  \n",
       "4      plazavea  \n",
       "5      plazavea  \n",
       "6      plazavea  \n",
       "7      plazavea  \n",
       "8      plazavea  \n",
       "9      plazavea  \n",
       "10     plazavea  \n",
       "11     plazavea  \n",
       "12     plazavea  \n",
       "0         metro  \n",
       "1         metro  \n",
       "2         metro  \n",
       "3         metro  \n",
       "4         metro  \n",
       "5         metro  \n",
       "6         metro  \n",
       "7         metro  \n",
       "8         metro  \n",
       "9         metro  \n",
       "10        metro  \n",
       "11        metro  \n",
       "12        metro  \n",
       "13        metro  \n",
       "14        metro  "
      ]
     },
     "execution_count": 39,
     "metadata": {},
     "output_type": "execute_result"
    }
   ],
   "source": [
    "pd.concat([df_tottus, df_plazavea, df_metro])"
   ]
  },
  {
   "cell_type": "code",
   "execution_count": null,
   "id": "2b22d293",
   "metadata": {},
   "outputs": [],
   "source": []
  }
 ],
 "metadata": {
  "kernelspec": {
   "display_name": "Python 3 (ipykernel)",
   "language": "python",
   "name": "python3"
  },
  "language_info": {
   "codemirror_mode": {
    "name": "ipython",
    "version": 3
   },
   "file_extension": ".py",
   "mimetype": "text/x-python",
   "name": "python",
   "nbconvert_exporter": "python",
   "pygments_lexer": "ipython3",
   "version": "3.9.7"
  }
 },
 "nbformat": 4,
 "nbformat_minor": 5
}



aaa
