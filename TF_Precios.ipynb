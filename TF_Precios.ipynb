{
 "cells": [
  {
   "cell_type": "markdown",
   "id": "a554cc10",
   "metadata": {},
   "source": [
    "## Precios de Metro\n",
    "### Precios de los abarrotes"
   ]
  },
  {
   "cell_type": "code",
   "execution_count": 72,
   "id": "c58edb42",
   "metadata": {},
   "outputs": [],
   "source": [
    "import requests\n",
    "from bs4 import BeautifulSoup\n",
    "from lxml import etree\n",
    "import pandas as pd"
   ]
  },
  {
   "cell_type": "code",
   "execution_count": 73,
   "id": "24561317",
   "metadata": {},
   "outputs": [],
   "source": [
    "r_metro = requests.get(\"https://www.metro.pe/abarrotes\")\n"
   ]
  },
  {
   "cell_type": "code",
   "execution_count": 75,
   "id": "ddaa594f",
   "metadata": {},
   "outputs": [],
   "source": [
    "soup_M = BeautifulSoup(r_metro.content, \"html.parser\")"
   ]
  },
  {
   "cell_type": "code",
   "execution_count": 78,
   "id": "6de63149",
   "metadata": {},
   "outputs": [],
   "source": [
    "dom_M = etree.HTML(str(soup_M))\n",
    "\n",
    "titulos_M = dom.xpath(\"//ul/li[@class='comprar-abarrotes-online']/div[1]/div[3]/div[1]/a\")"
   ]
  },
  {
   "cell_type": "code",
   "execution_count": 81,
   "id": "0333e642",
   "metadata": {},
   "outputs": [],
   "source": [
    "titulos_M = [ i.text for i in titulos_M]"
   ]
  },
  {
   "cell_type": "code",
   "execution_count": 82,
   "id": "24c61836",
   "metadata": {},
   "outputs": [
    {
     "data": {
      "text/plain": [
       "['Fideo Spaghetti Don Vittorio 950g',\n",
       " 'Aceite Vegetal Cuisine&Co Botella 900 ml',\n",
       " 'Arroz Extra Costeño 5kg',\n",
       " 'Aceite Vegetal Primor Premium 900ml',\n",
       " 'Pasta Spaghetti Nro 5 Bolsa 1 Kg',\n",
       " 'Trozos de Atún en Aceite Vegetal Cuisine & Co Lata 170 g',\n",
       " 'Trozos De Atún En Aceite Vegetal Metro Lata 170 g',\n",
       " 'Aceite Vegetal Máxima 900ml',\n",
       " 'Arroz Superior Metro Bolsa 5 kg',\n",
       " 'Arroz Superior Paisana Bolsa 5 kg',\n",
       " 'Sal de Cocina Marina Emsal Bolsa 1 kg',\n",
       " 'Galletas Sabor Vainilla Field Paquete 37 g Pack 6 unid',\n",
       " 'Galletas San Jorge Soda Pack 7un',\n",
       " 'Galletas de Soda Field Paquete 34 g Pack 6 unid',\n",
       " 'Aceite Vegetal Primor Clásico 900ml',\n",
       " 'Filete de Atún en Aceite Florida 150g',\n",
       " 'Sixpack Galletas Coronita con Crema\\xa0de\\xa0Chocolate 36g']"
      ]
     },
     "execution_count": 82,
     "metadata": {},
     "output_type": "execute_result"
    }
   ],
   "source": [
    "titulos_M"
   ]
  },
  {
   "cell_type": "code",
   "execution_count": 38,
   "id": "1f004f05",
   "metadata": {},
   "outputs": [],
   "source": [
    "#li[1]/div[1]/div[3]/div[2]/div[2]/span[2]\n",
    "\n",
    "precios_M = dom.xpath(\"//li[@class='comprar-abarrotes-online']/div[1]/div[3]/div[2]/div[2]/span[2]\")"
   ]
  },
  {
   "cell_type": "code",
   "execution_count": 39,
   "id": "3d7f2912",
   "metadata": {},
   "outputs": [],
   "source": [
    "precios_M = [i.text for i in precios_M]"
   ]
  },
  {
   "cell_type": "code",
   "execution_count": 40,
   "id": "4b84aaa9",
   "metadata": {},
   "outputs": [
    {
     "data": {
      "text/plain": [
       "['S/. 4.20',\n",
       " 'S/. 8.90',\n",
       " 'S/. 21.90',\n",
       " 'S/. 11.50',\n",
       " 'S/. 3.35',\n",
       " 'S/. 4.20',\n",
       " 'S/. 4.20',\n",
       " 'S/. 8.60',\n",
       " 'S/. 15.70',\n",
       " 'S/. 18.80',\n",
       " 'S/. 2.20',\n",
       " 'S/. 4.10',\n",
       " 'S/. 3.60',\n",
       " 'S/. 2.70',\n",
       " 'S/. 11.40',\n",
       " 'S/. 3.99',\n",
       " 'S/. 4.60']"
      ]
     },
     "execution_count": 40,
     "metadata": {},
     "output_type": "execute_result"
    }
   ],
   "source": [
    "precios_M"
   ]
  },
  {
   "cell_type": "code",
   "execution_count": 51,
   "id": "0d03e731",
   "metadata": {},
   "outputs": [],
   "source": [
    "df = pd.DataFrame({\"titulos\":titulos, \"precios\":precios})"
   ]
  },
  {
   "cell_type": "code",
   "execution_count": 52,
   "id": "63526d35",
   "metadata": {},
   "outputs": [
    {
     "data": {
      "text/html": [
       "<div>\n",
       "<style scoped>\n",
       "    .dataframe tbody tr th:only-of-type {\n",
       "        vertical-align: middle;\n",
       "    }\n",
       "\n",
       "    .dataframe tbody tr th {\n",
       "        vertical-align: top;\n",
       "    }\n",
       "\n",
       "    .dataframe thead th {\n",
       "        text-align: right;\n",
       "    }\n",
       "</style>\n",
       "<table border=\"1\" class=\"dataframe\">\n",
       "  <thead>\n",
       "    <tr style=\"text-align: right;\">\n",
       "      <th></th>\n",
       "      <th>titulos</th>\n",
       "      <th>precios</th>\n",
       "    </tr>\n",
       "  </thead>\n",
       "  <tbody>\n",
       "    <tr>\n",
       "      <th>0</th>\n",
       "      <td>Fideo Spaghetti Don Vittorio 950g</td>\n",
       "      <td>S/. 4.20</td>\n",
       "    </tr>\n",
       "    <tr>\n",
       "      <th>1</th>\n",
       "      <td>Aceite Vegetal Cuisine&amp;Co Botella 900 ml</td>\n",
       "      <td>S/. 8.90</td>\n",
       "    </tr>\n",
       "    <tr>\n",
       "      <th>2</th>\n",
       "      <td>Arroz Extra Costeño 5kg</td>\n",
       "      <td>S/. 21.90</td>\n",
       "    </tr>\n",
       "    <tr>\n",
       "      <th>3</th>\n",
       "      <td>Aceite Vegetal Primor Premium 900ml</td>\n",
       "      <td>S/. 11.50</td>\n",
       "    </tr>\n",
       "    <tr>\n",
       "      <th>4</th>\n",
       "      <td>Pasta Spaghetti Nro 5 Bolsa 1 Kg</td>\n",
       "      <td>S/. 3.35</td>\n",
       "    </tr>\n",
       "    <tr>\n",
       "      <th>5</th>\n",
       "      <td>Trozos de Atún en Aceite Vegetal Cuisine &amp; Co ...</td>\n",
       "      <td>S/. 4.20</td>\n",
       "    </tr>\n",
       "    <tr>\n",
       "      <th>6</th>\n",
       "      <td>Trozos De Atún En Aceite Vegetal Metro Lata 170 g</td>\n",
       "      <td>S/. 4.20</td>\n",
       "    </tr>\n",
       "    <tr>\n",
       "      <th>7</th>\n",
       "      <td>Aceite Vegetal Máxima 900ml</td>\n",
       "      <td>S/. 8.60</td>\n",
       "    </tr>\n",
       "    <tr>\n",
       "      <th>8</th>\n",
       "      <td>Arroz Superior Metro Bolsa 5 kg</td>\n",
       "      <td>S/. 15.70</td>\n",
       "    </tr>\n",
       "    <tr>\n",
       "      <th>9</th>\n",
       "      <td>Arroz Superior Paisana Bolsa 5 kg</td>\n",
       "      <td>S/. 18.80</td>\n",
       "    </tr>\n",
       "    <tr>\n",
       "      <th>10</th>\n",
       "      <td>Sal de Cocina Marina Emsal Bolsa 1 kg</td>\n",
       "      <td>S/. 2.20</td>\n",
       "    </tr>\n",
       "    <tr>\n",
       "      <th>11</th>\n",
       "      <td>Galletas Sabor Vainilla Field Paquete 37 g Pac...</td>\n",
       "      <td>S/. 4.10</td>\n",
       "    </tr>\n",
       "    <tr>\n",
       "      <th>12</th>\n",
       "      <td>Galletas San Jorge Soda Pack 7un</td>\n",
       "      <td>S/. 3.60</td>\n",
       "    </tr>\n",
       "    <tr>\n",
       "      <th>13</th>\n",
       "      <td>Galletas de Soda Field Paquete 34 g Pack 6 unid</td>\n",
       "      <td>S/. 2.70</td>\n",
       "    </tr>\n",
       "    <tr>\n",
       "      <th>14</th>\n",
       "      <td>Aceite Vegetal Primor Clásico 900ml</td>\n",
       "      <td>S/. 11.40</td>\n",
       "    </tr>\n",
       "    <tr>\n",
       "      <th>15</th>\n",
       "      <td>Sixpack Galletas Coronita con Crema de Chocola...</td>\n",
       "      <td>S/. 3.99</td>\n",
       "    </tr>\n",
       "    <tr>\n",
       "      <th>16</th>\n",
       "      <td>Filete De Atún En Aceite Vegetal Cuisine&amp;Co La...</td>\n",
       "      <td>S/. 4.60</td>\n",
       "    </tr>\n",
       "  </tbody>\n",
       "</table>\n",
       "</div>"
      ],
      "text/plain": [
       "                                              titulos    precios\n",
       "0                   Fideo Spaghetti Don Vittorio 950g   S/. 4.20\n",
       "1            Aceite Vegetal Cuisine&Co Botella 900 ml   S/. 8.90\n",
       "2                             Arroz Extra Costeño 5kg  S/. 21.90\n",
       "3                 Aceite Vegetal Primor Premium 900ml  S/. 11.50\n",
       "4                    Pasta Spaghetti Nro 5 Bolsa 1 Kg   S/. 3.35\n",
       "5   Trozos de Atún en Aceite Vegetal Cuisine & Co ...   S/. 4.20\n",
       "6   Trozos De Atún En Aceite Vegetal Metro Lata 170 g   S/. 4.20\n",
       "7                         Aceite Vegetal Máxima 900ml   S/. 8.60\n",
       "8                     Arroz Superior Metro Bolsa 5 kg  S/. 15.70\n",
       "9                   Arroz Superior Paisana Bolsa 5 kg  S/. 18.80\n",
       "10              Sal de Cocina Marina Emsal Bolsa 1 kg   S/. 2.20\n",
       "11  Galletas Sabor Vainilla Field Paquete 37 g Pac...   S/. 4.10\n",
       "12                   Galletas San Jorge Soda Pack 7un   S/. 3.60\n",
       "13    Galletas de Soda Field Paquete 34 g Pack 6 unid   S/. 2.70\n",
       "14                Aceite Vegetal Primor Clásico 900ml  S/. 11.40\n",
       "15  Sixpack Galletas Coronita con Crema de Chocola...   S/. 3.99\n",
       "16  Filete De Atún En Aceite Vegetal Cuisine&Co La...   S/. 4.60"
      ]
     },
     "execution_count": 52,
     "metadata": {},
     "output_type": "execute_result"
    }
   ],
   "source": [
    "df"
   ]
  },
  {
   "cell_type": "code",
   "execution_count": 113,
   "id": "bbd35698",
   "metadata": {},
   "outputs": [],
   "source": [
    "df.to_csv('abarrotes_Metro.csv')"
   ]
  },
  {
   "cell_type": "code",
   "execution_count": null,
   "id": "d48aafcf",
   "metadata": {},
   "outputs": [],
   "source": []
  },
  {
   "cell_type": "markdown",
   "id": "5e5b6fad",
   "metadata": {},
   "source": [
    "## Plaza vea\n"
   ]
  },
  {
   "cell_type": "code",
   "execution_count": 85,
   "id": "408ebe18",
   "metadata": {},
   "outputs": [],
   "source": [
    "r_plazavea = requests.get(\"https://www.plazavea.com.pe/abarrotes\")"
   ]
  },
  {
   "cell_type": "code",
   "execution_count": 86,
   "id": "8878e8a6",
   "metadata": {},
   "outputs": [],
   "source": [
    "soup_PV = BeautifulSoup(r_plazavea.content, \"html.parser\")"
   ]
  },
  {
   "cell_type": "code",
   "execution_count": 110,
   "id": "a960bfce",
   "metadata": {},
   "outputs": [],
   "source": [
    "#//*[@id=\"category-page\"]/div[1]/div[2]/main/div[2]/div[1]/div/div/div/div/div/div/div[1]/div/div[2]/div[2]/a\n",
    "\n",
    "dom_M = etree.HTML(str(soup_PV))\n",
    "titulos_PV = dom.xpath(\"//div[@class='HA Showcase Showcase--food']/div/div[2]/div[2]/a[@class='showcase_name']\")"
   ]
  },
  {
   "cell_type": "code",
   "execution_count": 111,
   "id": "b56521ec",
   "metadata": {},
   "outputs": [],
   "source": [
    "titulos_PV = [ i.text for i in titulos_PV]"
   ]
  },
  {
   "cell_type": "code",
   "execution_count": 112,
   "id": "9d390c7f",
   "metadata": {},
   "outputs": [
    {
     "data": {
      "text/plain": [
       "[]"
      ]
     },
     "execution_count": 112,
     "metadata": {},
     "output_type": "execute_result"
    }
   ],
   "source": [
    "titulos_PV"
   ]
  }
 ],
 "metadata": {
  "kernelspec": {
   "display_name": "Python 3 (ipykernel)",
   "language": "python",
   "name": "python3"
  },
  "language_info": {
   "codemirror_mode": {
    "name": "ipython",
    "version": 3
   },
   "file_extension": ".py",
   "mimetype": "text/x-python",
   "name": "python",
   "nbconvert_exporter": "python",
   "pygments_lexer": "ipython3",
   "version": "3.9.7"
  }
 },
 "nbformat": 4,
 "nbformat_minor": 5
}
